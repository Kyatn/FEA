{
 "cells": [
  {
   "cell_type": "code",
   "execution_count": 1,
   "id": "0bbed8e1",
   "metadata": {},
   "outputs": [],
   "source": [
    "from datetime import datetime\n",
    "import numpy as np\n",
    "import os\n",
    "from datetime import datetime, timedelta\n",
    "import shutil\n",
    "from dateutil.relativedelta import relativedelta\n",
    "import shutil\n",
    "import zipfile\n",
    "import pandas as pd\n",
    "import rename as rn"
   ]
  },
  {
   "cell_type": "markdown",
   "id": "0d96c947",
   "metadata": {},
   "source": [
    "# rename it! (using rename module)"
   ]
  },
  {
   "cell_type": "code",
   "execution_count": 2,
   "id": "d947726f",
   "metadata": {},
   "outputs": [],
   "source": [
    "# #Linux\n",
    "# folder = '/home/caio/data/kamioka-data/FEA_test_0036-0038_2404-/scope-waveRunner8000/waveform_trig-pmt_240531-240603'\n",
    "# new_folder = 'waveform_trig-pmt_240531-240603'\n",
    "# new_path = '/home/caio/data-makeup/kamioka-data/FEA_test_0036-0038/scope-waveRunner8000/'\n",
    "# #new_folder = '/home/caio/data-no-sync/scope-waveRunner8000/C1_waveform_trig-pmt_240530-allDay'\n",
    "\n",
    "# #windows\n",
    "# #folder = 'D:/data/kamioka-data/scope-waveRunner8000/waveform_trig-pmt_240530-allDay'\n",
    "# #new_folder = 'D:/data/kamioka-data/scope-waveRunner8000/C1_waveform_trig-pmt_240530-allDay'\n",
    "\n",
    "# partitions = rn.org_file(folder, 3)\n",
    "\n",
    "\n",
    "# rn.rename_file(folder, new_folder, new_path, partitions, '.txt')"
   ]
  },
  {
   "cell_type": "code",
   "execution_count": 3,
   "id": "23061d59",
   "metadata": {},
   "outputs": [],
   "source": [
    "# folder = '/home/caio/data/kamioka-data/FEA_test_0036-0038_2404-/scope-waveRunner8000/waveform_trig-pmt_240530-allDay'\n",
    "# new_path = '/home/caio/data-makeup/kamioka-data/FEA_test_0036-0038/scope-waveRunner8000/'\n",
    "# new_folder = 'waveform_trig-pmt_240530-allDay'\n",
    "\n",
    "# partitions = rn.org_file(folder, 3)\n",
    "# print(len(partitions))\n",
    "\n",
    "# rn.rename_file(folder, new_folder, new_path, partitions, '.txt')"
   ]
  },
  {
   "cell_type": "code",
   "execution_count": 4,
   "id": "a5aeacd2-b8be-443b-ba1c-107777d63393",
   "metadata": {},
   "outputs": [],
   "source": [
    "# # wavefor from 240605 to 240611\n",
    "\n",
    "# # Linux ------------------------------------------------------------------------------------------------\n",
    "# test_folder = 'FEA_test_0036-0038_2404-'\n",
    "\n",
    "# # zip_folder = '/home/caio/data/kamioka-data/'+test_folder+'/scope-waveRunner8000/zip_data/zip.zip'\n",
    "# zip_folder = '/home/caio/data/kamioka-data/'+test_folder+'/scope-waveRunner8000/zip_data/waveform.zip'\n",
    "\n",
    "# new_path = '/home/caio/data-makeup/kamioka-data/FEA_test_0036-0038/scope-waveRunner8000/'\n",
    "# new_folder = 'waveformTrigpmt_240605-240611'\n",
    "\n",
    "# extract_to_path = '/home/caio/data/temp'\n",
    "\n",
    "# # Windows-----------------------------------------------------------------------------------------------\n",
    "\n",
    "# # test_folder = 'FEA_test_0036-0038_2404-'\n",
    "\n",
    "# # zip_folder = r\"D:\\to-windows\\zip.zip\"\n",
    "# # unzip_folder = r\"D:\\to-windows\\unzip\"\n",
    "\n",
    "# # new_path = 'D:\\\\data\\\\kamioka-data\\\\FEA_test_0036-0038_2404-\\\\scope-waveRunner8000\\\\'\n",
    "\n",
    "# # new_folder = 'waveform_trigpmt'\n",
    "\n",
    "# # extract_to_path = r'D:\\data\\temp'\n",
    "\n",
    "# #-------------------------------------------------------------------------------------------------------\n",
    "\n",
    "# if os.path.exists(extract_to_path):  \n",
    "#             shutil.rmtree(extract_to_path)\n",
    "#             os.makedirs(extract_to_path)\n",
    "# else:\n",
    "#     os.makedirs(extract_to_path)\n",
    "\n",
    "# # Use shutil.unpack_archive to extract the zip file\n",
    "# shutil.unpack_archive(zip_folder, extract_to_path, 'zip')\n",
    "\n",
    "# #shutil.unpack_archive(zip_folder, unzip_folder, 'zip')\n",
    "\n",
    "# partitions = rn.org_file(extract_to_path, 3)\n",
    "\n",
    "# rn.rename_file(extract_to_path, new_folder, new_path, partitions, '.txt')\n",
    "\n",
    "# new_directory = os.path.join(new_path,new_folder)\n",
    "\n",
    "# if os.path.exists(extract_to_path):  \n",
    "#             shutil.rmtree(extract_to_path)"
   ]
  },
  {
   "cell_type": "code",
   "execution_count": null,
   "id": "976842d8-48db-43c5-80e0-6c2879b36965",
   "metadata": {},
   "outputs": [],
   "source": []
  }
 ],
 "metadata": {
  "kernelspec": {
   "display_name": "Python 3 (Spyder)",
   "language": "python3",
   "name": "python3"
  },
  "language_info": {
   "codemirror_mode": {
    "name": "ipython",
    "version": 3
   },
   "file_extension": ".py",
   "mimetype": "text/x-python",
   "name": "python",
   "nbconvert_exporter": "python",
   "pygments_lexer": "ipython3",
   "version": "3.11.7"
  }
 },
 "nbformat": 4,
 "nbformat_minor": 5
}
